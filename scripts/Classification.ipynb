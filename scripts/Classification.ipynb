{
 "cells": [
  {
   "cell_type": "code",
   "execution_count": 1,
   "metadata": {},
   "outputs": [],
   "source": [
    "%load_ext autoreload\n",
    "%autoreload 2"
   ]
  },
  {
   "cell_type": "code",
   "execution_count": 2,
   "metadata": {},
   "outputs": [],
   "source": [
    "from __future__ import print_function # if you are using Python 2\n",
    "from sklearn import svm, metrics\n",
    "from sklearn.model_selection import train_test_split\n",
    "from sklearn.preprocessing import StandardScaler\n",
    "from sklearn.model_selection import StratifiedShuffleSplit\n",
    "from sklearn.model_selection import GridSearchCV\n",
    "from sklearn.model_selection import cross_val_score\n",
    "\n",
    "from classify_digits import *"
   ]
  },
  {
   "cell_type": "code",
   "execution_count": 3,
   "metadata": {},
   "outputs": [],
   "source": [
    "n_samples = 10000"
   ]
  },
  {
   "cell_type": "markdown",
   "metadata": {},
   "source": [
    "# Load the extracted topological features"
   ]
  },
  {
   "cell_type": "code",
   "execution_count": 4,
   "metadata": {},
   "outputs": [
    {
     "name": "stdout",
     "output_type": "stream",
     "text": [
      "Number of samples in train set: 5000\n",
      "Number of samples in test set: 5000\n"
     ]
    }
   ],
   "source": [
    "X = np.load('../data/features_'+ str(n_samples) + '.npy', allow_pickle=True)\n",
    "y = np.load('../data/y_' + str(n_samples) + '.npy', allow_pickle=True)\n",
    "\n",
    "# we are cheating a bit in scaling all of the data, instead of fitting\n",
    "# the transformation on training set and applying it on test set\n",
    "scaler = StandardScaler()\n",
    "X = scaler.fit_transform(X)\n",
    "\n",
    "# split 50:50\n",
    "X_train, X_test, y_train, y_test = train_test_split(X, y, test_size=0.5, shuffle=False)\n",
    "print('Number of samples in train set: %i' % (X_train.shape[0]) )\n",
    "print('Number of samples in test set: %i' % (X_test.shape[0]) )"
   ]
  },
  {
   "cell_type": "markdown",
   "metadata": {},
   "source": [
    "# Classify the images using SVM with RBF kernel"
   ]
  },
  {
   "cell_type": "code",
   "execution_count": 5,
   "metadata": {},
   "outputs": [],
   "source": [
    "# perform the grid search\n",
    "if n_samples > 1000: # it takes some time\n",
    "    # The best parameter values are\n",
    "    # {'C': 138.94954943731375, 'gamma': 0.006551285568595509}\n",
    "    # with a score of 0.89\n",
    "    # Accuracy: 0.8872\n",
    "    values = {'C': 138.94954943731375, 'gamma': 0.006551285568595509}\n",
    "else:\n",
    "    C_range = np.logspace(0, 3, 50)\n",
    "    gamma_range = np.logspace(-3, 1, 50)\n",
    "    values = grid_search(X_train, y_train, C_range, gamma_range)"
   ]
  },
  {
   "cell_type": "markdown",
   "metadata": {},
   "source": [
    "# Evaluate the model"
   ]
  },
  {
   "cell_type": "markdown",
   "metadata": {},
   "source": [
    "## Results of 10-fold CV results on train set"
   ]
  },
  {
   "cell_type": "code",
   "execution_count": 6,
   "metadata": {},
   "outputs": [
    {
     "name": "stdout",
     "output_type": "stream",
     "text": [
      "Accuracy on the train set: 0.88 (+/- 0.05)\n"
     ]
    }
   ],
   "source": [
    "classifier = svm.SVC(C=values['C'], gamma=values['gamma'])\n",
    "scores = cross_val_score(classifier, X_train, y_train, cv=10)\n",
    "print('Accuracy on the train set: %0.2f (+/- %0.2f)' %\n",
    "     (scores.mean(), scores.std() * 2))"
   ]
  },
  {
   "cell_type": "markdown",
   "metadata": {},
   "source": [
    "## Results on test set"
   ]
  },
  {
   "cell_type": "code",
   "execution_count": 7,
   "metadata": {},
   "outputs": [
    {
     "data": {
      "text/plain": [
       "SVC(C=138.949549437, cache_size=200, class_weight=None, coef0=0.0,\n",
       "  decision_function_shape='ovr', degree=3, gamma=0.0065512855686,\n",
       "  kernel='rbf', max_iter=-1, probability=False, random_state=None,\n",
       "  shrinking=True, tol=0.001, verbose=False)"
      ]
     },
     "execution_count": 7,
     "metadata": {},
     "output_type": "execute_result"
    }
   ],
   "source": [
    "classifier.fit(X_train, y_train) # train the model on train set"
   ]
  },
  {
   "cell_type": "code",
   "execution_count": 8,
   "metadata": {},
   "outputs": [],
   "source": [
    "predicted = classifier.predict(X_test) # predict on test set"
   ]
  },
  {
   "cell_type": "code",
   "execution_count": 9,
   "metadata": {},
   "outputs": [
    {
     "name": "stdout",
     "output_type": "stream",
     "text": [
      "Accuracy on test set: 0.89\n"
     ]
    }
   ],
   "source": [
    "print('Accuracy on test set: %0.2f' %\n",
    "      metrics.accuracy_score(y_test, predicted))"
   ]
  },
  {
   "cell_type": "code",
   "execution_count": 10,
   "metadata": {},
   "outputs": [
    {
     "name": "stdout",
     "output_type": "stream",
     "text": [
      "Classification results on test set:\n",
      "              precision    recall  f1-score   support\n",
      "\n",
      "           0       0.95      0.97      0.96       522\n",
      "           1       0.94      0.96      0.95       564\n",
      "           2       0.81      0.80      0.80       503\n",
      "           3       0.94      0.86      0.89       539\n",
      "           4       0.89      0.93      0.91       445\n",
      "           5       0.74      0.75      0.75       429\n",
      "           6       0.94      0.93      0.93       513\n",
      "           7       0.84      0.89      0.87       520\n",
      "           8       0.88      0.85      0.87       482\n",
      "           9       0.92      0.91      0.92       483\n",
      "\n",
      "   micro avg       0.89      0.89      0.89      5000\n",
      "   macro avg       0.88      0.88      0.88      5000\n",
      "weighted avg       0.89      0.89      0.89      5000\n",
      "\n"
     ]
    }
   ],
   "source": [
    "print('Classification results on test set:\\n%s' %\n",
    "      metrics.classification_report(y_test, predicted))"
   ]
  },
  {
   "cell_type": "code",
   "execution_count": 11,
   "metadata": {},
   "outputs": [
    {
     "name": "stdout",
     "output_type": "stream",
     "text": [
      "Confusion matrix on test set:\n",
      "[[505   0   0   0   3   1   3   0  10   0]\n",
      " [  0 542   7   0   3   4   4   4   0   0]\n",
      " [  3   7 401   2   2  61   6  13   7   1]\n",
      " [  3   1  13 462   1  22   2  22   9   4]\n",
      " [  3   2  10   0 412   1   3   3   3   8]\n",
      " [  3   8  32  14   0 323   6  36   4   3]\n",
      " [  0   7  11   0   3   3 476   0  12   1]\n",
      " [  0   3  16  14   3  16   0 463   1   4]\n",
      " [ 14   1   7   0  21   3   8   0 412  16]\n",
      " [  1   5   1   2  17   1   0   8   8 440]]\n"
     ]
    }
   ],
   "source": [
    "print('Confusion matrix on test set:\\n%s' %\n",
    "      metrics.confusion_matrix(y_test, predicted))"
   ]
  },
  {
   "cell_type": "markdown",
   "metadata": {},
   "source": [
    "# Examples of misclassified images"
   ]
  },
  {
   "cell_type": "markdown",
   "metadata": {},
   "source": [
    "From the confusion matrix on test set we see that there were 3 examples of 2 being mistaken for number 0 when number 2 was written with a loop:"
   ]
  },
  {
   "cell_type": "code",
   "execution_count": 12,
   "metadata": {},
   "outputs": [
    {
     "name": "stdout",
     "output_type": "stream",
     "text": [
      "Image of 2 was misclassified as: 0\n"
     ]
    },
    {
     "data": {
      "image/png": "[encoded data removed]",
      "text/plain": [
       "<Figure size 432x288 with 1 Axes>"
      ]
     },
     "metadata": {
      "needs_background": "light"
     },
     "output_type": "display_data"
    },
    {
     "name": "stdout",
     "output_type": "stream",
     "text": [
      "Image of 2 was misclassified as: 0\n"
     ]
    },
    {
     "data": {
      "image/png": "[encoded data removed]",
      "text/plain": [
       "<Figure size 432x288 with 1 Axes>"
      ]
     },
     "metadata": {
      "needs_background": "light"
     },
     "output_type": "display_data"
    },
    {
     "name": "stdout",
     "output_type": "stream",
     "text": [
      "Image of 2 was misclassified as: 0\n"
     ]
    },
    {
     "data": {
      "image/png": "[encoded data removed]",
      "text/plain": [
       "<Figure size 432x288 with 1 Axes>"
      ]
     },
     "metadata": {
      "needs_background": "light"
     },
     "output_type": "display_data"
    }
   ],
   "source": [
    "show_misclassified(classifier, X_test, y_test, \n",
    "                   actual=2, mistaken_for=0)"
   ]
  },
  {
   "cell_type": "markdown",
   "metadata": {},
   "source": [
    "For number 5 we got the lowest F1 score of 0.75. It was misclassified as 2 in 32 examples in test set. Expected since these numbers are topologically the same when number 2 is written with no\n",
    "loop. (Number 5 looks similar to number 2 if we reflect it vertically and horizontally.)"
   ]
  },
  {
   "cell_type": "code",
   "execution_count": 13,
   "metadata": {},
   "outputs": [
    {
     "name": "stdout",
     "output_type": "stream",
     "text": [
      "Image of 5 was misclassified as: 2\n"
     ]
    },
    {
     "data": {
      "image/png": "[encoded data removed]",
      "text/plain": [
       "<Figure size 432x288 with 1 Axes>"
      ]
     },
     "metadata": {
      "needs_background": "light"
     },
     "output_type": "display_data"
    },
    {
     "name": "stdout",
     "output_type": "stream",
     "text": [
      "Image of 5 was misclassified as: 2\n"
     ]
    },
    {
     "data": {
      "image/png": "[encoded data removed]",
      "text/plain": [
       "<Figure size 432x288 with 1 Axes>"
      ]
     },
     "metadata": {
      "needs_background": "light"
     },
     "output_type": "display_data"
    },
    {
     "name": "stdout",
     "output_type": "stream",
     "text": [
      "Image of 5 was misclassified as: 2\n"
     ]
    },
    {
     "data": {
      "image/png": "[encoded data removed]",
      "text/plain": [
       "<Figure size 432x288 with 1 Axes>"
      ]
     },
     "metadata": {
      "needs_background": "light"
     },
     "output_type": "display_data"
    }
   ],
   "source": [
    "show_misclassified(classifier, X_test, y_test,\n",
    "                   actual=5, mistaken_for=2)"
   ]
  },
  {
   "cell_type": "markdown",
   "metadata": {},
   "source": [
    "Number 8 was misclassfied as 4 in 21 examples from test set. After inspecting the examples we see the stylistic problems that caused the topological changes. The top loop of number 8 was not closed which made it topologically more similar to number 4 written with a loop:"
   ]
  },
  {
   "cell_type": "code",
   "execution_count": 14,
   "metadata": {},
   "outputs": [
    {
     "name": "stdout",
     "output_type": "stream",
     "text": [
      "Image of 8 was misclassified as: 4\n"
     ]
    },
    {
     "data": {
      "image/png": "[encoded data removed]",
      "text/plain": [
       "<Figure size 432x288 with 1 Axes>"
      ]
     },
     "metadata": {
      "needs_background": "light"
     },
     "output_type": "display_data"
    },
    {
     "name": "stdout",
     "output_type": "stream",
     "text": [
      "Image of 8 was misclassified as: 4\n"
     ]
    },
    {
     "data": {
      "image/png": "[encoded data removed]",
      "text/plain": [
       "<Figure size 432x288 with 1 Axes>"
      ]
     },
     "metadata": {
      "needs_background": "light"
     },
     "output_type": "display_data"
    },
    {
     "name": "stdout",
     "output_type": "stream",
     "text": [
      "Image of 8 was misclassified as: 4\n"
     ]
    },
    {
     "data": {
      "image/png": "[encoded data removed]",
      "text/plain": [
       "<Figure size 432x288 with 1 Axes>"
      ]
     },
     "metadata": {
      "needs_background": "light"
     },
     "output_type": "display_data"
    }
   ],
   "source": [
    "show_misclassified(classifier, X_test, y_test, \n",
    "                   actual=8, mistaken_for=4)"
   ]
  },
  {
   "cell_type": "code",
   "execution_count": null,
   "metadata": {},
   "outputs": [],
   "source": []
  }
 ],
 "metadata": {
  "kernelspec": {
   "display_name": "Python 2",
   "language": "python",
   "name": "python2"
  },
  "language_info": {
   "codemirror_mode": {
    "name": "ipython",
    "version": 2
   },
   "file_extension": ".py",
   "mimetype": "text/x-python",
   "name": "python",
   "nbconvert_exporter": "python",
   "pygments_lexer": "ipython2",
   "version": "2.7.18"
  }
 },
 "nbformat": 4,
 "nbformat_minor": 2
}
